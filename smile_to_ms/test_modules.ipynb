{
 "cells": [
  {
   "cell_type": "code",
   "execution_count": 4,
   "id": "77a4ec5e-ab84-471f-b44d-11e7745053bb",
   "metadata": {
    "scrolled": true
   },
   "outputs": [
    {
     "ename": "AttributeError",
     "evalue": "module 'pandas.io.formats.format' has no attribute 'get_adjustment'",
     "output_type": "error",
     "traceback": [
      "\u001b[0;31m---------------------------------------------------------------------------\u001b[0m",
      "\u001b[0;31mAttributeError\u001b[0m                            Traceback (most recent call last)",
      "Cell \u001b[0;32mIn[4], line 5\u001b[0m\n\u001b[1;32m      3\u001b[0m \u001b[38;5;28;01mfrom\u001b[39;00m \u001b[38;5;21;01mrdkit\u001b[39;00m\u001b[38;5;21;01m.\u001b[39;00m\u001b[38;5;21;01mChem\u001b[39;00m \u001b[38;5;28;01mimport\u001b[39;00m Descriptors\n\u001b[1;32m      4\u001b[0m \u001b[38;5;28;01mfrom\u001b[39;00m \u001b[38;5;21;01mrdkit\u001b[39;00m\u001b[38;5;21;01m.\u001b[39;00m\u001b[38;5;21;01mChem\u001b[39;00m \u001b[38;5;28;01mimport\u001b[39;00m AllChem\n\u001b[0;32m----> 5\u001b[0m \u001b[38;5;28;01mfrom\u001b[39;00m \u001b[38;5;21;01mrdkit\u001b[39;00m\u001b[38;5;21;01m.\u001b[39;00m\u001b[38;5;21;01mChem\u001b[39;00m \u001b[38;5;28;01mimport\u001b[39;00m PandasTools\n\u001b[1;32m      6\u001b[0m \u001b[38;5;28;01mfrom\u001b[39;00m \u001b[38;5;21;01mrdkit\u001b[39;00m\u001b[38;5;21;01m.\u001b[39;00m\u001b[38;5;21;01mChem\u001b[39;00m \u001b[38;5;28;01mimport\u001b[39;00m FragmentCatalog\n\u001b[1;32m      7\u001b[0m \u001b[38;5;28;01mfrom\u001b[39;00m \u001b[38;5;21;01mrdkit\u001b[39;00m\u001b[38;5;21;01m.\u001b[39;00m\u001b[38;5;21;01mChem\u001b[39;00m \u001b[38;5;28;01mimport\u001b[39;00m MCS\n",
      "File \u001b[0;32m~/micromamba/envs/jup_lab/lib/python3.10/site-packages/rdkit/Chem/PandasTools.py:653\u001b[0m\n\u001b[1;32m    649\u001b[0m   \u001b[38;5;28;01mif\u001b[39;00m (failed):\n\u001b[1;32m    650\u001b[0m     sys\u001b[38;5;241m.\u001b[39mexit(failed)\n\u001b[0;32m--> 653\u001b[0m \u001b[43mInstallPandasTools\u001b[49m\u001b[43m(\u001b[49m\u001b[43m)\u001b[49m\n\u001b[1;32m    655\u001b[0m \u001b[38;5;28;01mif\u001b[39;00m \u001b[38;5;18m__name__\u001b[39m \u001b[38;5;241m==\u001b[39m \u001b[38;5;124m'\u001b[39m\u001b[38;5;124m__main__\u001b[39m\u001b[38;5;124m'\u001b[39m:  \u001b[38;5;66;03m# pragma: nocover\u001b[39;00m\n\u001b[1;32m    656\u001b[0m   \u001b[38;5;28;01mimport\u001b[39;00m \u001b[38;5;21;01munittest\u001b[39;00m\n",
      "File \u001b[0;32m~/micromamba/envs/jup_lab/lib/python3.10/site-packages/rdkit/Chem/PandasTools.py:622\u001b[0m, in \u001b[0;36mInstallPandasTools\u001b[0;34m()\u001b[0m\n\u001b[1;32m    620\u001b[0m \u001b[38;5;250m\u001b[39m\u001b[38;5;124;03m\"\"\" Monkey patch an RDKit method of Chem.Mol and pandas \"\"\"\u001b[39;00m\n\u001b[1;32m    621\u001b[0m \u001b[38;5;28;01mtry\u001b[39;00m:\n\u001b[0;32m--> 622\u001b[0m   \u001b[43mPandasPatcher\u001b[49m\u001b[38;5;241;43m.\u001b[39;49m\u001b[43mpatchPandas\u001b[49m\u001b[43m(\u001b[49m\u001b[43m)\u001b[49m\n\u001b[1;32m    623\u001b[0m \u001b[38;5;28;01mexcept\u001b[39;00m \u001b[38;5;167;01mNameError\u001b[39;00m:\n\u001b[1;32m    624\u001b[0m   \u001b[38;5;28;01mpass\u001b[39;00m\n",
      "File \u001b[0;32m~/micromamba/envs/jup_lab/lib/python3.10/site-packages/rdkit/Chem/PandasPatcher.py:263\u001b[0m, in \u001b[0;36mpatchPandas\u001b[0;34m()\u001b[0m\n\u001b[1;32m    261\u001b[0m \u001b[38;5;28;01mif\u001b[39;00m \u001b[38;5;28mgetattr\u001b[39m(html_formatter_class, \u001b[38;5;124m\"\u001b[39m\u001b[38;5;124m_write_cell\u001b[39m\u001b[38;5;124m\"\u001b[39m) \u001b[38;5;241m!=\u001b[39m patched_write_cell:\n\u001b[1;32m    262\u001b[0m   \u001b[38;5;28msetattr\u001b[39m(html_formatter_class, \u001b[38;5;124m\"\u001b[39m\u001b[38;5;124m_write_cell\u001b[39m\u001b[38;5;124m\"\u001b[39m, patched_write_cell)\n\u001b[0;32m--> 263\u001b[0m \u001b[38;5;28;01mif\u001b[39;00m \u001b[38;5;28;43mgetattr\u001b[39;49m\u001b[43m(\u001b[49m\u001b[43mpandas_formats\u001b[49m\u001b[38;5;241;43m.\u001b[39;49m\u001b[43mformat\u001b[49m\u001b[43m,\u001b[49m\u001b[43m \u001b[49m\u001b[43mget_adjustment_name\u001b[49m\u001b[43m)\u001b[49m \u001b[38;5;241m!=\u001b[39m patched_get_adjustment:\n\u001b[1;32m    264\u001b[0m   \u001b[38;5;28msetattr\u001b[39m(pandas_formats\u001b[38;5;241m.\u001b[39mformat, get_adjustment_name, patched_get_adjustment)\n\u001b[1;32m    265\u001b[0m \u001b[38;5;28;01mif\u001b[39;00m (orig_get_formatter \u001b[38;5;129;01mand\u001b[39;00m \u001b[38;5;28mgetattr\u001b[39m(dataframeformatter_class, \u001b[38;5;124m\"\u001b[39m\u001b[38;5;124m_get_formatter\u001b[39m\u001b[38;5;124m\"\u001b[39m) \u001b[38;5;241m!=\u001b[39m patched_get_formatter):\n",
      "\u001b[0;31mAttributeError\u001b[0m: module 'pandas.io.formats.format' has no attribute 'get_adjustment'"
     ]
    }
   ],
   "source": [
    "from rdkit import Chem\n",
    "from rdkit.Chem import Draw\n",
    "from rdkit.Chem import Descriptors\n",
    "from rdkit.Chem import AllChem\n",
    "from rdkit.Chem import PandasTools\n",
    "from rdkit.Chem import FragmentCatalog\n",
    "from rdkit.Chem import MCS\n",
    "\n",
    "# Define your SMILES string\n",
    "smiles = 'CCO'\n",
    "\n",
    "# Convert SMILES to RDKit molecule object\n",
    "mol = Chem.MolFromSmiles(smiles)\n",
    "\n",
    "# Generate mass spectrum\n",
    "spec = AllChem.CalcFragmentationPatterns(mol)\n",
    "\n",
    "# Print the mass spectrum\n",
    "for s in spec:\n",
    "    print(s.mass, s.charge, s.fragments)\n",
    "\n",
    "# You can also visualize the molecule\n",
    "Draw.MolToImage(mol)"
   ]
  },
  {
   "cell_type": "code",
   "execution_count": 5,
   "id": "e3787c80-7aa3-446c-b7bd-c0ff8b09046d",
   "metadata": {
    "scrolled": true
   },
   "outputs": [
    {
     "ename": "ModuleNotFoundError",
     "evalue": "No module named 'pybel'",
     "output_type": "error",
     "traceback": [
      "\u001b[0;31m---------------------------------------------------------------------------\u001b[0m",
      "\u001b[0;31mModuleNotFoundError\u001b[0m                       Traceback (most recent call last)",
      "Cell \u001b[0;32mIn[5], line 1\u001b[0m\n\u001b[0;32m----> 1\u001b[0m \u001b[38;5;28;01mimport\u001b[39;00m \u001b[38;5;21;01mpybel\u001b[39;00m\n\u001b[1;32m      3\u001b[0m \u001b[38;5;66;03m# Define your SMILES string\u001b[39;00m\n\u001b[1;32m      4\u001b[0m smiles \u001b[38;5;241m=\u001b[39m \u001b[38;5;124m'\u001b[39m\u001b[38;5;124mCCO\u001b[39m\u001b[38;5;124m'\u001b[39m\n",
      "\u001b[0;31mModuleNotFoundError\u001b[0m: No module named 'pybel'"
     ]
    }
   ],
   "source": [
    "import pybel\n",
    "\n",
    "# Define your SMILES string\n",
    "smiles = 'CCO'\n",
    "\n",
    "# Convert SMILES to Open Babel molecule object\n",
    "mol = pybel.readstring(\"smi\", smiles)\n",
    "\n",
    "# Generate mass spectrum\n",
    "spec = mol.calcdesc([\"mass_spectrum\"])\n",
    "\n",
    "# Print the mass spectrum\n",
    "for peak in spec.split('\\n'):\n",
    "    print(peak)"
   ]
  },
  {
   "cell_type": "code",
   "execution_count": 7,
   "id": "f630389f-78d8-4c88-be47-872191af38a5",
   "metadata": {},
   "outputs": [
    {
     "ename": "ModuleNotFoundError",
     "evalue": "No module named 'cfm_id'",
     "output_type": "error",
     "traceback": [
      "\u001b[0;31m---------------------------------------------------------------------------\u001b[0m",
      "\u001b[0;31mModuleNotFoundError\u001b[0m                       Traceback (most recent call last)",
      "Cell \u001b[0;32mIn[7], line 1\u001b[0m\n\u001b[0;32m----> 1\u001b[0m \u001b[38;5;28;01mfrom\u001b[39;00m \u001b[38;5;21;01mcfm_id\u001b[39;00m \u001b[38;5;28;01mimport\u001b[39;00m CfmId\n\u001b[1;32m      3\u001b[0m cfm_id \u001b[38;5;241m=\u001b[39m CfmId(\u001b[38;5;124m\"\u001b[39m\u001b[38;5;124m../data/\u001b[39m\u001b[38;5;124m\"\u001b[39m)\n\u001b[1;32m      4\u001b[0m cfm_id\u001b[38;5;241m.\u001b[39mpredict(\u001b[38;5;124m\"\u001b[39m\u001b[38;5;124mO=C1OC(CO)C(O)=C1O\u001b[39m\u001b[38;5;124m\"\u001b[39m)\n",
      "\u001b[0;31mModuleNotFoundError\u001b[0m: No module named 'cfm_id'"
     ]
    }
   ],
   "source": [
    "from cfm_id import CfmId\n",
    "\n",
    "cfm_id = CfmId(\"../data/\")\n",
    "cfm_id.predict(\"O=C1OC(CO)C(O)=C1O\")"
   ]
  }
 ],
 "metadata": {
  "kernelspec": {
   "display_name": "Python 3 (ipykernel)",
   "language": "python",
   "name": "python3"
  },
  "language_info": {
   "codemirror_mode": {
    "name": "ipython",
    "version": 3
   },
   "file_extension": ".py",
   "mimetype": "text/x-python",
   "name": "python",
   "nbconvert_exporter": "python",
   "pygments_lexer": "ipython3",
   "version": "3.10.14"
  }
 },
 "nbformat": 4,
 "nbformat_minor": 5
}
